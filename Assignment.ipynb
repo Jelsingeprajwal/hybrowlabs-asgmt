{
 "cells": [
  {
   "cell_type": "markdown",
   "id": "ee94eb0b",
   "metadata": {},
   "source": [
    "# Part1"
   ]
  },
  {
   "cell_type": "markdown",
   "id": "990f95ec",
   "metadata": {},
   "source": [
    "## Stack\n",
    "\n",
    "Implement a stack data structure in Python. The stack should support the following operations:\n",
    "- push(item) - Add an item to the top of the stack.\n",
    "- pop() - Remove and return the item on the top of the stack.\n",
    "- peek() - Return the item on the top of the stack without removing it.\n",
    "- is_empty() - Return True if the stack is empty, else False.\n"
   ]
  },
  {
   "cell_type": "code",
   "execution_count": 5,
   "id": "80f23f7e",
   "metadata": {},
   "outputs": [
    {
     "name": "stdout",
     "output_type": "stream",
     "text": [
      "[10, 20, 30, 40]\n",
      "40\n",
      "False\n"
     ]
    }
   ],
   "source": [
    "class Stack:\n",
    "    def __init__(self):\n",
    "        self.stack=[]\n",
    "\n",
    "    def push(self,data):\n",
    "        self.stack.append(data)\n",
    "\n",
    "    def pop(self):\n",
    "        self.stack.pop()\n",
    "    def isEmpty(self):\n",
    "        if len(self.stack)==0:\n",
    "            return True\n",
    "        else:\n",
    "            return False\n",
    "    def peek(self):\n",
    "        return self.stack[-1]\n",
    "\n",
    "stack=Stack()\n",
    "\n",
    "#PUSH\n",
    "stack.push(10)\n",
    "stack.push(20)\n",
    "stack.push(30)\n",
    "stack.push(40)\n",
    "stack.push(50)\n",
    "\n",
    "# POP\n",
    "\n",
    "stack.pop()\n",
    "\n",
    "\n",
    "# Print \n",
    "print(stack.stack)\n",
    "\n",
    "# seek()\n",
    "print(stack.peek())\n",
    "\n",
    "# empty or not\n",
    "print(stack.isEmpty())"
   ]
  },
  {
   "cell_type": "markdown",
   "id": "c0e78755",
   "metadata": {},
   "source": [
    "## Queue\n",
    "\n",
    "Implement a queue data structure in Python. The queue should support the following operations:\n",
    "- enqueue(item) - Add an item to the back of the queue.\n",
    "- dequeue() - Remove and return the item at the front of the queue.\n",
    "- peek() - Return the item at the front of the queue without removing it.\n",
    "- is_empty() - Return True if the queue is empty, else False.\n"
   ]
  },
  {
   "cell_type": "code",
   "execution_count": 11,
   "id": "a3d5bbd7",
   "metadata": {},
   "outputs": [
    {
     "name": "stdout",
     "output_type": "stream",
     "text": [
      "1\n",
      "1\n",
      "2\n",
      "False\n",
      "3\n",
      "True\n",
      "None\n"
     ]
    }
   ],
   "source": [
    "class Queue:\n",
    "    def __init__(self):\n",
    "        self.items = []\n",
    "\n",
    "    def enqueue(self, item):\n",
    "        self.items.append(item)\n",
    "\n",
    "    def dequeue(self):\n",
    "        if not self.is_empty():\n",
    "            return self.items.pop(0)\n",
    "\n",
    "    def peek(self):\n",
    "        if not self.is_empty():\n",
    "            return self.items[0]\n",
    "\n",
    "    def is_empty(self):\n",
    "        return len(self.items) == 0\n",
    "q = Queue()\n",
    "q.enqueue(1)\n",
    "q.enqueue(2)\n",
    "q.enqueue(3)\n",
    "\n",
    "print(q.peek())  # prints 1\n",
    "print(q.dequeue())  # prints 1\n",
    "print(q.dequeue())  # prints 2\n",
    "print(q.is_empty())  # prints False\n",
    "print(q.dequeue())  # prints 3\n",
    "print(q.is_empty())  # prints True\n",
    "print(q.dequeue())  # prints None (queue is empty)\n"
   ]
  },
  {
   "cell_type": "markdown",
   "id": "f79ab7d9",
   "metadata": {},
   "source": [
    "## Binary search tree\n",
    "\n",
    "Implement a binary search tree (BST) data structure in Python. The BST should support the following operations:\n",
    "- insert(item) - Insert an item into the tree.\n",
    "- delete(item) - Remove an item from the tree.\n",
    "- search(item) - Return True if the item is in the tree, else False.\n",
    "- size() - Return the number of nodes in the tree.\n"
   ]
  },
  {
   "cell_type": "code",
   "execution_count": 9,
   "id": "65cdbd34",
   "metadata": {},
   "outputs": [
    {
     "name": "stdout",
     "output_type": "stream",
     "text": [
      "        -> 8\n",
      "    -> 7\n",
      "        -> 6\n",
      "-> 5\n",
      "        -> 4\n",
      "    -> 3\n",
      "        -> 2\n",
      "        -> 8\n",
      "    -> 7\n",
      "-> 6\n",
      "        -> 4\n",
      "    -> 3\n",
      "        -> 2\n"
     ]
    }
   ],
   "source": [
    "class Node:\n",
    "    def __init__(self, value):\n",
    "        self.value = value\n",
    "        self.left = None\n",
    "        self.right = None\n",
    "\n",
    "class BST:\n",
    "    def __init__(self):\n",
    "        self.root = None\n",
    "        self.count = 0\n",
    "\n",
    "    def insert(self, value):\n",
    "        if not self.root:\n",
    "            self.root = Node(value)\n",
    "            self.count += 1\n",
    "            return\n",
    "        node = self.root\n",
    "        while True:\n",
    "            if value < node.value:\n",
    "                if not node.left:\n",
    "                    node.left = Node(value)\n",
    "                    self.count += 1\n",
    "                    return\n",
    "                node = node.left\n",
    "            elif value > node.value:\n",
    "                if not node.right:\n",
    "                    node.right = Node(value)\n",
    "                    self.count += 1\n",
    "                    return\n",
    "                node = node.right\n",
    "            else:\n",
    "                return\n",
    "\n",
    "    def search(self, value):\n",
    "        node = self.root\n",
    "        while node:\n",
    "            if value < node.value:\n",
    "                node = node.left\n",
    "            elif value > node.value:\n",
    "                node = node.right\n",
    "            else:\n",
    "                return True\n",
    "        return False\n",
    "\n",
    "    def delete(self, value):\n",
    "        def delete_recursively(node, value):\n",
    "            if not node:\n",
    "                return node\n",
    "            if value < node.value:\n",
    "                node.left = delete_recursively(node.left, value)\n",
    "            elif value > node.value:\n",
    "                node.right = delete_recursively(node.right, value)\n",
    "            else:\n",
    "                if not node.left:\n",
    "                    return node.right\n",
    "                if not node.right:\n",
    "                    return node.left\n",
    "                temp = node.right\n",
    "                while temp.left:\n",
    "                    temp = temp.left\n",
    "                node.value = temp.value\n",
    "                node.right = delete_recursively(node.right, temp.value)\n",
    "            return node\n",
    "\n",
    "        self.root = delete_recursively(self.root, value)\n",
    "        if self.root:\n",
    "            self.count -= 1\n",
    "\n",
    "    def size(self):\n",
    "        return self.count\n",
    "\n",
    "    def print(self):\n",
    "        def print_recursively(node, level):\n",
    "            if not node:\n",
    "                return\n",
    "            print_recursively(node.right, level + 1)\n",
    "            print(\" \" * 4 * level + \"->\", node.value)\n",
    "            print_recursively(node.left, level + 1)\n",
    "\n",
    "        print_recursively(self.root, 0)\n",
    "bst = BST()\n",
    "bst.insert(5)\n",
    "bst.insert(3)\n",
    "bst.insert(7)\n",
    "bst.insert(2)\n",
    "bst.insert(4)\n",
    "bst.insert(6)\n",
    "bst.insert(8)\n",
    "\n",
    "bst.print()  # prints the tree in sorted order\n",
    "# -> 8\n",
    "#     -> 7\n",
    "#         -> 6\n",
    "#     -> 5\n",
    "#         -> 4\n",
    "#             -> 3\n",
    "#                 -> 2\n",
    "\n",
    "bst.delete(5)\n",
    "bst.print()  # prints the updated tree\n",
    "# -> 8\n",
    "#     -> 7\n",
    "#         -> 6\n",
    "#     -> 4\n",
    "#         -> 3\n",
    "#             -> 2\n"
   ]
  },
  {
   "cell_type": "markdown",
   "id": "dada7f95",
   "metadata": {},
   "source": [
    "# Part 2"
   ]
  },
  {
   "cell_type": "markdown",
   "id": "ada6ed34",
   "metadata": {},
   "source": [
    "## Problem 1: Anagram Checker\n",
    "`Write a Python function that takes in two strings and returns True if they are anagrams of each other, else False. An anagram is a word or phrase formed by rearranging the letters of a different word or phrase, typically using all the original letters exactly once.`"
   ]
  },
  {
   "cell_type": "code",
   "execution_count": 2,
   "id": "9401656e",
   "metadata": {},
   "outputs": [
    {
     "name": "stdout",
     "output_type": "stream",
     "text": [
      "The strings are anagrams.\n"
     ]
    }
   ],
   "source": [
    "def check_for_anagram(s1, s2):\n",
    "     \n",
    "    # the sorted strings are checked\n",
    "    if(sorted(s1)== sorted(s2)):\n",
    "        print(\"The strings are anagrams.\")\n",
    "    else:\n",
    "        print(\"The strings aren't anagrams.\")\n",
    "        \n",
    "str1= 'listen'\n",
    "str2= 'silent'\n",
    "check_for_anagram(str1,str2)"
   ]
  },
  {
   "cell_type": "markdown",
   "id": "5bf01303",
   "metadata": {},
   "source": [
    "## Problem 2: FizzBuzz\n",
    "`Write a Python function that takes in an integer n and prints the numbers from 1 to n. For multiples of 3, print \"Fizz\" instead of the number. For multiples of 5, print \"Buzz\" instead of the number. For multiples of both 3 and 5, print \"FizzBuzz\" instead of the number.\n",
    "`"
   ]
  },
  {
   "cell_type": "code",
   "execution_count": 3,
   "id": "aa6d7789",
   "metadata": {},
   "outputs": [
    {
     "name": "stdout",
     "output_type": "stream",
     "text": [
      "['1', '2', 'Fizz', '4', 'Buzz', 'Fizz', '7', '8', 'Fizz', 'Buzz', '11', 'Fizz', '13', '14', 'FizzBuzz', '16', '17', 'Fizz', '19', 'Buzz', 'Fizz', '22', '23', 'Fizz', 'Buzz', '26', 'Fizz', '28', '29', 'FizzBuzz']\n"
     ]
    }
   ],
   "source": [
    "class Solution(object):\n",
    "   def fizzBuzz(self, n):\n",
    "      result = []\n",
    "      for i in range(1,n+1):\n",
    "         if i% 3== 0 and i%5==0:\n",
    "            result.append(\"FizzBuzz\")\n",
    "         elif i %3==0:\n",
    "            result.append(\"Fizz\")\n",
    "         elif i% 5 == 0:\n",
    "            result.append(\"Buzz\")\n",
    "         else:\n",
    "            result.append(str(i))\n",
    "      return result\n",
    "ob1 = Solution()\n",
    "print(ob1.fizzBuzz(30))"
   ]
  },
  {
   "cell_type": "markdown",
   "id": "e827e78d",
   "metadata": {},
   "source": [
    "## Problem 3: Fibonacci Sequence\n",
    "`Write a Python function that takes in an integer n and returns the nth number in the Fibonacci sequence. The Fibonacci sequence is a series of numbers in which each number after the first two is the sum of the two preceding ones.`"
   ]
  },
  {
   "cell_type": "code",
   "execution_count": 6,
   "id": "a37fab0d",
   "metadata": {},
   "outputs": [
    {
     "name": "stdout",
     "output_type": "stream",
     "text": [
      "34\n"
     ]
    }
   ],
   "source": [
    "def Fibonacci(n):\n",
    "   \n",
    "    if n < 0:\n",
    "        print(\"Incorrect input\")\n",
    "\n",
    "    elif n == 0:\n",
    "        return 0\n",
    "    elif n == 1 or n == 2:\n",
    "        return 1\n",
    " \n",
    "    else:\n",
    "        return Fibonacci(n-1) + Fibonacci(n-2)\n",
    "\n",
    "    \n",
    "print(Fibonacci(9))"
   ]
  }
 ],
 "metadata": {
  "kernelspec": {
   "display_name": "Python 3 (ipykernel)",
   "language": "python",
   "name": "python3"
  },
  "language_info": {
   "codemirror_mode": {
    "name": "ipython",
    "version": 3
   },
   "file_extension": ".py",
   "mimetype": "text/x-python",
   "name": "python",
   "nbconvert_exporter": "python",
   "pygments_lexer": "ipython3",
   "version": "3.11.2"
  }
 },
 "nbformat": 4,
 "nbformat_minor": 5
}
